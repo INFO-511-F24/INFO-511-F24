{
  "cells": [
    {
      "cell_type": "raw",
      "metadata": {},
      "source": [
        "---\n",
        "title: 'AE 01: Meet the penguins'\n",
        "---"
      ],
      "id": "c8dbc9b1"
    },
    {
      "cell_type": "markdown",
      "metadata": {},
      "source": [
        "For this application exercise, we'll use the **pandas** and **seaborn** packages.\n"
      ],
      "id": "98285ca8"
    },
    {
      "cell_type": "code",
      "metadata": {},
      "source": [
        "#| label: load-packages\n",
        "\n",
        "import pandas as pd\n",
        "import seaborn as sns"
      ],
      "id": "load-packages",
      "execution_count": null,
      "outputs": []
    },
    {
      "cell_type": "markdown",
      "metadata": {},
      "source": [
        "The dataset we will visualize is called `penguins`.\n",
        "Let's `.info()` it.\n",
        "\n",
        "-   **Your turn:** Replace `#add code here` with the code for \"info\"ing at the data `penguins` data frame – `penguins.info()`. Render the document and view the output.\n"
      ],
      "id": "a42428dc"
    },
    {
      "cell_type": "code",
      "metadata": {},
      "source": [
        "#| label: glimpse-penguins\n",
        "penguins = sns.load_dataset(\"data/penguins\")\n",
        "# add code here"
      ],
      "id": "glimpse-penguins",
      "execution_count": null,
      "outputs": []
    },
    {
      "cell_type": "markdown",
      "metadata": {},
      "source": [
        "-   **Demo:** First, replace the blank below with the number of rows in the `penguins` data frame based on the output of the chunk below. Then, replace it with \"inline code\" and render again.\n"
      ],
      "id": "f1065310"
    },
    {
      "cell_type": "code",
      "metadata": {},
      "source": [
        "#| label: nrow-penguins\n",
        "\n",
        "num_rows = len(penguins)\n",
        "num_rows"
      ],
      "id": "nrow-penguins",
      "execution_count": null,
      "outputs": []
    },
    {
      "cell_type": "markdown",
      "metadata": {},
      "source": [
        "There are \\_\\_\\_ penguins in the `penguins` data frame.\n"
      ],
      "id": "5ebe0652"
    },
    {
      "cell_type": "code",
      "metadata": {},
      "source": [
        "x = 2\n",
        "x * 3"
      ],
      "id": "50600c0c",
      "execution_count": null,
      "outputs": []
    }
  ],
  "metadata": {
    "kernelspec": {
      "name": "python3",
      "language": "python",
      "display_name": "Python 3 (ipykernel)"
    }
  },
  "nbformat": 4,
  "nbformat_minor": 5
}